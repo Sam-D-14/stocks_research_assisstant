{
 "cells": [
  {
   "cell_type": "code",
   "execution_count": 2,
   "id": "b61c1b2d-9734-4a2e-9439-5e85d1213762",
   "metadata": {},
   "outputs": [],
   "source": [
    "from dotenv import load_dotenv"
   ]
  },
  {
   "cell_type": "code",
   "execution_count": 3,
   "id": "945adc70-72f0-4c04-a1ee-ee8ad019d9cc",
   "metadata": {},
   "outputs": [],
   "source": [
    "import os"
   ]
  },
  {
   "cell_type": "code",
   "execution_count": 4,
   "id": "7c121a9e-dd18-471a-affd-1f14182d74e6",
   "metadata": {},
   "outputs": [
    {
     "data": {
      "text/plain": [
       "True"
      ]
     },
     "execution_count": 4,
     "metadata": {},
     "output_type": "execute_result"
    }
   ],
   "source": [
    "load_dotenv()"
   ]
  },
  {
   "cell_type": "code",
   "execution_count": null,
   "id": "f6d3ca88-d588-4c35-986a-db48f33a7eb6",
   "metadata": {},
   "outputs": [],
   "source": []
  },
  {
   "cell_type": "code",
   "execution_count": 18,
   "id": "2d0cc00a-438d-4bb3-a797-73de048acc28",
   "metadata": {},
   "outputs": [],
   "source": [
    "az = os.getenv(\"FINNHUB_API_KEY\")"
   ]
  },
  {
   "cell_type": "code",
   "execution_count": 26,
   "id": "0f9d6136-2628-4b04-aca0-cd8a5ff17813",
   "metadata": {},
   "outputs": [],
   "source": [
    "import finnhub\n",
    "import json\n",
    "import requests\n",
    "\n",
    "def client_setup(api_key):\n",
    "    client = finnhub.Client(api_key=api_key)\n",
    "    return client\n",
    "\n",
    "def symbol_lookup(api_key, search_term):\n",
    "    c = client_setup(api_key)\n",
    "    print(\"Fetching US stock symbols for NASDAQ (MIC: XNAS)...\")\n",
    "    us_symbols_list = c.stock_symbols(exchange=\"US\", mic='XNAS')\n",
    "    print(f\"Fetched {len(us_symbols_list)} symbols for NASDAQ.\")\n",
    "    print(f\"\\nSearching for stocks with '{search_term}' in their name/description...\")\n",
    "    for symbol_info in us_symbols_list:\n",
    "    \n",
    "        description = symbol_info.get('description', '')\n",
    "        symbol = symbol_info.get('symbol', '')\n",
    "        display_symbol = symbol_info.get('displaySymbol', '')\n",
    "        \n",
    "        # Check if the search term is in the description (case-insensitive)\n",
    "        if search_term.lower() in description.lower():\n",
    "            a = symbol_info\n",
    "            \n",
    "            print(f\"a['displaySymbol']\")\n",
    "            break\n",
    "\n",
    "    return a['displaySymbol']    "
   ]
  },
  {
   "cell_type": "code",
   "execution_count": 28,
   "id": "054b852b-cbcf-4cd8-8c02-db9e47689185",
   "metadata": {},
   "outputs": [
    {
     "name": "stdout",
     "output_type": "stream",
     "text": [
      "Fetching US stock symbols for NASDAQ (MIC: XNAS)...\n",
      "Fetched 4937 symbols for NASDAQ.\n",
      "\n",
      "Searching for stocks with 'Pepsico' in their name/description...\n",
      "PEP\n"
     ]
    },
    {
     "data": {
      "text/plain": [
       "'PEP'"
      ]
     },
     "execution_count": 28,
     "metadata": {},
     "output_type": "execute_result"
    }
   ],
   "source": [
    "symbol_lookup(az ,\"Pepsico\")"
   ]
  },
  {
   "cell_type": "code",
   "execution_count": 31,
   "id": "c4ec35ac-3fbb-4830-aeda-07b01211c37f",
   "metadata": {},
   "outputs": [],
   "source": [
    "market_api = os.getenv(\"MARKETDATA_API_KEY\")"
   ]
  },
  {
   "cell_type": "code",
   "execution_count": 32,
   "id": "bf97e102-b352-4188-b4e0-d8dba8d8c248",
   "metadata": {},
   "outputs": [
    {
     "data": {
      "text/plain": [
       "'MEd0S2h6aXJCWjVXQjJ5SUVVYkl5TTlCaDlNWlZtdUNMNG5WdDU0eGdfcz0'"
      ]
     },
     "execution_count": 32,
     "metadata": {},
     "output_type": "execute_result"
    }
   ],
   "source": [
    "market_api"
   ]
  },
  {
   "cell_type": "code",
   "execution_count": 34,
   "id": "f4eee889-3fb8-4bf3-a80f-544655af00df",
   "metadata": {},
   "outputs": [],
   "source": [
    "def get_response(sym , start_date,end_date , api_key):\n",
    "    url = f\"https://api.marketdata.app/v1/stocks/candles/D/{sym}/?from={start_date}&to={end_date}&token={api_key}\"\n",
    "    r = requests.get(url)\n",
    "    res = r.json()\n",
    "    return {'timeframe':res['t'] , 'opening_price':res['o'] , 'highest_price_of_the_day':res['h'] , 'lowest_price_of_the_day':res['l'] , 'closing_price_of_the_day':res['c']}"
   ]
  },
  {
   "cell_type": "code",
   "execution_count": 35,
   "id": "e90e415d-c016-452e-8b2a-dca243c7a5ce",
   "metadata": {},
   "outputs": [
    {
     "name": "stdout",
     "output_type": "stream",
     "text": [
      "Fetching US stock symbols for NASDAQ (MIC: XNAS)...\n",
      "Fetched 4933 symbols for NASDAQ.\n",
      "\n",
      "Searching for stocks with 'Pepsico' in their name/description...\n",
      "PEP\n"
     ]
    },
    {
     "data": {
      "text/plain": [
       "{'timeframe': [1744603200,\n",
       "  1744689600,\n",
       "  1744776000,\n",
       "  1744862400,\n",
       "  1745208000,\n",
       "  1745294400],\n",
       " 'opening_price': [144.16, 145.84, 144.11, 140.34, 142.5, 142.28],\n",
       " 'highest_price_of_the_day': [147.175,\n",
       "  145.98,\n",
       "  144.4,\n",
       "  143.5664,\n",
       "  142.83,\n",
       "  144.275],\n",
       " 'lowest_price_of_the_day': [143.5,\n",
       "  142.6274,\n",
       "  139.7698,\n",
       "  140.075,\n",
       "  140.57,\n",
       "  141.95],\n",
       " 'closing_price_of_the_day': [146.75, 142.84, 140.09, 142.84, 141.73, 143.46]}"
      ]
     },
     "execution_count": 35,
     "metadata": {},
     "output_type": "execute_result"
    }
   ],
   "source": [
    "get_response(symbol_lookup(az ,\"Pepsico\"),\"2025-04-14\", '2025-04-22',market_api)"
   ]
  },
  {
   "cell_type": "code",
   "execution_count": null,
   "id": "0a167c14-513b-425f-a21b-ef0c1cbb0b04",
   "metadata": {},
   "outputs": [],
   "source": []
  },
  {
   "cell_type": "code",
   "execution_count": 10,
   "id": "2cf9d310-4f48-43ff-b4a2-8dbe7f591009",
   "metadata": {},
   "outputs": [],
   "source": [
    "from api_calling import symbol_lookup\n",
    "import os\n",
    "from dotenv import load_dotenv"
   ]
  },
  {
   "cell_type": "code",
   "execution_count": 11,
   "id": "e49eedb0-4517-4245-8276-85735db77847",
   "metadata": {},
   "outputs": [
    {
     "data": {
      "text/plain": [
       "True"
      ]
     },
     "execution_count": 11,
     "metadata": {},
     "output_type": "execute_result"
    }
   ],
   "source": [
    "load_dotenv()"
   ]
  },
  {
   "cell_type": "code",
   "execution_count": 8,
   "id": "23ca8899-2fae-4bb9-a17e-e5a173aed406",
   "metadata": {},
   "outputs": [
    {
     "data": {
      "text/plain": [
       "'d02tm49r01qi6jgj97ngd02tm49r01qi6jgj97o0'"
      ]
     },
     "execution_count": 8,
     "metadata": {},
     "output_type": "execute_result"
    }
   ],
   "source": [
    "os.getenv(\"FINNHUB_API_KEY\")"
   ]
  },
  {
   "cell_type": "code",
   "execution_count": 6,
   "id": "710ed41c-e2b5-42e7-8823-0ac8d662283f",
   "metadata": {},
   "outputs": [
    {
     "name": "stdout",
     "output_type": "stream",
     "text": [
      "Fetching US stock symbols for NASDAQ (MIC: XNAS)...\n",
      "Fetched 4933 symbols for NASDAQ.\n",
      "\n",
      "Searching for stocks with 'Adidas' in their name/description...\n"
     ]
    },
    {
     "ename": "UnboundLocalError",
     "evalue": "cannot access local variable 'a' where it is not associated with a value",
     "output_type": "error",
     "traceback": [
      "\u001b[31m---------------------------------------------------------------------------\u001b[39m",
      "\u001b[31mUnboundLocalError\u001b[39m                         Traceback (most recent call last)",
      "\u001b[36mCell\u001b[39m\u001b[36m \u001b[39m\u001b[32mIn[6]\u001b[39m\u001b[32m, line 1\u001b[39m\n\u001b[32m----> \u001b[39m\u001b[32m1\u001b[39m a = \u001b[43msymbol_lookup\u001b[49m\u001b[43m(\u001b[49m\u001b[43mos\u001b[49m\u001b[43m.\u001b[49m\u001b[43mgetenv\u001b[49m\u001b[43m(\u001b[49m\u001b[33;43m\"\u001b[39;49m\u001b[33;43mFINNHUB_API_KEY\u001b[39;49m\u001b[33;43m\"\u001b[39;49m\u001b[43m)\u001b[49m\u001b[43m,\u001b[49m\u001b[33;43m\"\u001b[39;49m\u001b[33;43mAdidas\u001b[39;49m\u001b[33;43m\"\u001b[39;49m\u001b[43m)\u001b[49m\n",
      "\u001b[36mFile \u001b[39m\u001b[32m~/stock_research_assistant/src/stock_research_assistant/api_calling.py:36\u001b[39m, in \u001b[36msymbol_lookup\u001b[39m\u001b[34m(api_key, search_term)\u001b[39m\n\u001b[32m     33\u001b[39m         \u001b[38;5;28mprint\u001b[39m(\u001b[33mf\u001b[39m\u001b[33m\"\u001b[39m\u001b[33mFound the display symbol: \u001b[39m\u001b[38;5;132;01m{\u001b[39;00ma[\u001b[33m'\u001b[39m\u001b[33mdisplaySymbol\u001b[39m\u001b[33m'\u001b[39m]\u001b[38;5;132;01m}\u001b[39;00m\u001b[33m\"\u001b[39m)\n\u001b[32m     34\u001b[39m         \u001b[38;5;28;01mbreak\u001b[39;00m\n\u001b[32m---> \u001b[39m\u001b[32m36\u001b[39m \u001b[38;5;28;01mreturn\u001b[39;00m \u001b[43ma\u001b[49m[\u001b[33m'\u001b[39m\u001b[33mdisplaySymbol\u001b[39m\u001b[33m'\u001b[39m]\n",
      "\u001b[31mUnboundLocalError\u001b[39m: cannot access local variable 'a' where it is not associated with a value"
     ]
    }
   ],
   "source": [
    "a = symbol_lookup(os.getenv(\"FINNHUB_API_KEY\"),\"Adidas\")"
   ]
  },
  {
   "cell_type": "code",
   "execution_count": null,
   "id": "39a26e12-4249-4188-a487-445b3a4967e4",
   "metadata": {},
   "outputs": [],
   "source": [
    "Using the @tool Decorator\n",
    "The @tool decorator provides a more concise way to create custom tools by directly decorating a Python function. This method is suitable for simpler tools that don't require a complex input schema.   \n",
    " \n",
    " \n",
    "To create a custom tool using the @tool decorator:\n",
    "Import the tool decorator: Import tool from crewai.tools.\n",
    "Decorate your function: Use the @tool(\"Tool Name\") decorator above your function definition, replacing \"Tool Name\" with the desired name of your tool.   \n",
    "Define the function: The function's docstring will serve as the tool's description. The function parameters will be considered as the input arguments for the tool. You can use type hints for these parameters.   \n",
    " \n",
    " \n",
    " \n",
    " \n",
    "from crewai.tools import tool\n",
    "\n",
    "import requests\n",
    "\n",
    "import os\n",
    " \n",
    "@tool(\"Get Stock Sentiment\")\n",
    "\n",
    "def get_stock_sentiment(stock_symbol: str) -> str:\n",
    "\n",
    "    \"\"\"Fetches the latest sentiment for a given stock symbol from a custom API.\"\"\"\n",
    "\n",
    "    api_url = os.environ.get(\"CUSTOM_SENTIMENT_API_URL\")\n",
    "\n",
    "    api_key = os.environ.get(\"CUSTOM_SENTIMENT_API_KEY\")\n",
    " \n",
    "    if not api_url or not api_key:\n",
    "\n",
    "        return \"Error: Custom sentiment API URL or key not configured.\"\n",
    " \n",
    "    headers = {\"X-API-Key\": api_key}\n",
    "\n",
    "    params = {\"symbol\": stock_symbol}\n",
    " \n",
    "    try:\n",
    "\n",
    "        response = requests.get(api_url, headers=headers, params=params)\n",
    "\n",
    "        response.raise_for_status()\n",
    "\n",
    "        sentiment_data = response.json()\n",
    "\n",
    "        return str(sentiment_data)\n",
    "\n",
    "    except requests.exceptions.RequestException as e:\n",
    "\n",
    "        return f\"Error fetching sentiment from custom API: {e}\"\n",
    " \n",
    "# In agents/researcher_agent.py (example)\n",
    "\n",
    "from crewai import Agent\n",
    "\n",
    "from your_tools_module import CustomStockDataTool, CustomStockSentimentTool # Assuming your custom tools are defined in 'your_tools_module.py'\n",
    " \n",
    "stock_data_tool = CustomStockDataTool()\n",
    "\n",
    "sentiment_tool = CustomStockSentimentTool()\n",
    " \n",
    "research_agent = Agent(\n",
    "\n",
    "    role=\"Stock Market Researcher\",\n",
    "\n",
    "    goal=\"Gather and analyze financial data and news sentiment to provide insights on specific stocks.\",\n",
    "\n",
    "    backstory=\"You are an experienced stock market researcher with a keen eye for detail and a strong understanding of market trends.\",\n",
    "\n",
    "    tools=[stock_data_tool, sentiment_tool],\n",
    "\n",
    "    verbose=True # Enable verbose mode for debugging\n",
    "\n",
    ")\n",
    " "
   ]
  },
  {
   "cell_type": "code",
   "execution_count": 1,
   "id": "da17ae4b-19db-4bc2-a585-c178ffc49c77",
   "metadata": {},
   "outputs": [],
   "source": [
    "import os \n",
    "from dotenv import load_dotenv"
   ]
  },
  {
   "cell_type": "code",
   "execution_count": 2,
   "id": "49b5845f-d224-48c7-8195-1d35e94ed1d0",
   "metadata": {},
   "outputs": [
    {
     "data": {
      "text/plain": [
       "True"
      ]
     },
     "execution_count": 2,
     "metadata": {},
     "output_type": "execute_result"
    }
   ],
   "source": [
    "load_dotenv()"
   ]
  },
  {
   "cell_type": "code",
   "execution_count": 3,
   "id": "3ee1e6dd-9558-4979-a54a-afee619f219b",
   "metadata": {},
   "outputs": [
    {
     "data": {
      "text/plain": [
       "'d02tm49r01qi6jgj97ngd02tm49r01qi6jgj97o0'"
      ]
     },
     "execution_count": 3,
     "metadata": {},
     "output_type": "execute_result"
    }
   ],
   "source": [
    "os.getenv(\"FINNHUB_API_KEY\")"
   ]
  },
  {
   "cell_type": "code",
   "execution_count": 5,
   "id": "5c02837e-9521-4bad-9fa7-6af553daafa2",
   "metadata": {},
   "outputs": [
    {
     "data": {
      "text/plain": [
       "'MEd0S2h6aXJCWjVXQjJ5SUVVYkl5TTlCaDlNWlZtdUNMNG5WdDU0eGdfcz0'"
      ]
     },
     "execution_count": 5,
     "metadata": {},
     "output_type": "execute_result"
    }
   ],
   "source": [
    "os.getenv(\"MARKETDATA_API_KEY\")"
   ]
  },
  {
   "cell_type": "code",
   "execution_count": 10,
   "id": "b36d39da-7b8b-4104-900f-5e420f13a8f1",
   "metadata": {},
   "outputs": [],
   "source": [
    "from datetime import date \n",
    "from crewai.tools import BaseTool\n",
    "from pydantic.v1 import BaseModel, Field # Use pydantic.v1 if needed"
   ]
  },
  {
   "cell_type": "code",
   "execution_count": null,
   "id": "8d129bf6-b86c-48d0-b88d-9244ae0d5aa8",
   "metadata": {},
   "outputs": [],
   "source": []
  },
  {
   "cell_type": "code",
   "execution_count": 13,
   "id": "596915d8-0f69-4c7b-829f-b86ef4be6193",
   "metadata": {},
   "outputs": [],
   "source": [
    "today =  date.today()"
   ]
  },
  {
   "cell_type": "code",
   "execution_count": 14,
   "id": "b80e19c9-53bb-4e7d-9364-f1235769bdaa",
   "metadata": {},
   "outputs": [],
   "source": [
    "today_string = today.strftime(\"%Y-%m-%d\")"
   ]
  },
  {
   "cell_type": "code",
   "execution_count": 15,
   "id": "7593bf31-66da-45e5-9b82-fd186ef935f7",
   "metadata": {},
   "outputs": [
    {
     "data": {
      "text/plain": [
       "'2025-04-29'"
      ]
     },
     "execution_count": 15,
     "metadata": {},
     "output_type": "execute_result"
    }
   ],
   "source": [
    "today_string"
   ]
  },
  {
   "cell_type": "code",
   "execution_count": 17,
   "id": "959082ef-0a4d-4df1-9ad4-c2cb4d268a29",
   "metadata": {},
   "outputs": [],
   "source": [
    "class symbol_api_input_schema(BaseModel):\n",
    "    \"\"\"Input schema for the Legacy API Tool, defining info the LLM needs to find.\"\"\"\n",
    "\n",
    "    keyword: str = Field(description=\"Extract only the name of the company as a keyword to be looked up\")\n",
    "    "
   ]
  },
  {
   "cell_type": "code",
   "execution_count": 19,
   "id": "f1f00936-1709-4e70-b940-154e72991c64",
   "metadata": {},
   "outputs": [],
   "source": [
    "class stock_api_input_schema(BaseModel):\n",
    "    \"\"\"Input schema for the Legacy API Tool, defining info the LLM needs to find.\"\"\"\n",
    "\n",
    "    sym: str = Field(description=\"symbol_lookup_api_output\")\n",
    "    start_date: str = Field(description=\"Compute this based on the input prompt and maybe calculate backwards from today's date or end date (however instructed)\")\n",
    "    end_date: str = Field(description=\"date in the format YYYY-MM-DD , based on the prompt given as input\")"
   ]
  },
  {
   "cell_type": "code",
   "execution_count": null,
   "id": "51cdd646-2bb2-4c60-8961-7acf6561c6b3",
   "metadata": {},
   "outputs": [],
   "source": []
  }
 ],
 "metadata": {
  "kernelspec": {
   "display_name": "Python 3 (ipykernel)",
   "language": "python",
   "name": "python3"
  },
  "language_info": {
   "codemirror_mode": {
    "name": "ipython",
    "version": 3
   },
   "file_extension": ".py",
   "mimetype": "text/x-python",
   "name": "python",
   "nbconvert_exporter": "python",
   "pygments_lexer": "ipython3",
   "version": "3.12.4"
  }
 },
 "nbformat": 4,
 "nbformat_minor": 5
}
