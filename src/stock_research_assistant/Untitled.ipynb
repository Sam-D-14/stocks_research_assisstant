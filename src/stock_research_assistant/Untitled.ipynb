{
 "cells": [
  {
   "cell_type": "code",
   "execution_count": 1,
   "id": "b61c1b2d-9734-4a2e-9439-5e85d1213762",
   "metadata": {},
   "outputs": [],
   "source": [
    "from dotenv import load_dotenv"
   ]
  },
  {
   "cell_type": "code",
   "execution_count": 2,
   "id": "945adc70-72f0-4c04-a1ee-ee8ad019d9cc",
   "metadata": {},
   "outputs": [],
   "source": [
    "import os"
   ]
  },
  {
   "cell_type": "code",
   "execution_count": 6,
   "id": "7c121a9e-dd18-471a-affd-1f14182d74e6",
   "metadata": {},
   "outputs": [
    {
     "data": {
      "text/plain": [
       "True"
      ]
     },
     "execution_count": 6,
     "metadata": {},
     "output_type": "execute_result"
    }
   ],
   "source": [
    "load_dotenv()"
   ]
  },
  {
   "cell_type": "code",
   "execution_count": 7,
   "id": "f6d3ca88-d588-4c35-986a-db48f33a7eb6",
   "metadata": {},
   "outputs": [
    {
     "data": {
      "text/plain": [
       "'40915e2169a18fa06e8c18d08cea0d51fceac432'"
      ]
     },
     "execution_count": 7,
     "metadata": {},
     "output_type": "execute_result"
    }
   ],
   "source": [
    "os.getenv(\"SERPER_API_KEY\")"
   ]
  },
  {
   "cell_type": "code",
   "execution_count": 9,
   "id": "0f9d6136-2628-4b04-aca0-cd8a5ff17813",
   "metadata": {},
   "outputs": [],
   "source": [
    "from crewai_tools import SerperDevTool"
   ]
  },
  {
   "cell_type": "code",
   "execution_count": 1,
   "id": "054b852b-cbcf-4cd8-8c02-db9e47689185",
   "metadata": {},
   "outputs": [],
   "source": [
    "import distutils.util"
   ]
  },
  {
   "cell_type": "code",
   "execution_count": null,
   "id": "f4eee889-3fb8-4bf3-a80f-544655af00df",
   "metadata": {},
   "outputs": [],
   "source": []
  }
 ],
 "metadata": {
  "kernelspec": {
   "display_name": "Python 3 (ipykernel)",
   "language": "python",
   "name": "python3"
  },
  "language_info": {
   "codemirror_mode": {
    "name": "ipython",
    "version": 3
   },
   "file_extension": ".py",
   "mimetype": "text/x-python",
   "name": "python",
   "nbconvert_exporter": "python",
   "pygments_lexer": "ipython3",
   "version": "3.12.4"
  }
 },
 "nbformat": 4,
 "nbformat_minor": 5
}
