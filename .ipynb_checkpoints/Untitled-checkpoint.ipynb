{
 "cells": [
  {
   "cell_type": "code",
   "execution_count": 18,
   "id": "7d27ead9-176e-4988-96c8-01e1004e4ea9",
   "metadata": {},
   "outputs": [],
   "source": [
    "import requests"
   ]
  },
  {
   "cell_type": "code",
   "execution_count": 29,
   "id": "6107f8e7-95a0-46de-a65e-bfaa815f2524",
   "metadata": {},
   "outputs": [],
   "source": [
    "url = \"https://stocks-research-assisstant-451e6ff2-c32c-4e-19951976.crewai.com/kickoff\""
   ]
  },
  {
   "cell_type": "code",
   "execution_count": 30,
   "id": "291e0678-618e-4fb0-9f71-b48284e14ded",
   "metadata": {},
   "outputs": [],
   "source": [
    "payload = {\n",
    "    \"current_year\": 2025,\n",
    "    \"topic\": \"AI in stock market\"\n",
    "}"
   ]
  },
  {
   "cell_type": "code",
   "execution_count": 31,
   "id": "5176efee-c54c-4477-a9d8-6fecd41a5fd3",
   "metadata": {},
   "outputs": [],
   "source": [
    "response = requests.post(url, json=payload)"
   ]
  },
  {
   "cell_type": "code",
   "execution_count": 32,
   "id": "27449a7e-6cc6-4af8-96a6-72505d8207d9",
   "metadata": {},
   "outputs": [
    {
     "data": {
      "text/plain": [
       "<Response [404]>"
      ]
     },
     "execution_count": 32,
     "metadata": {},
     "output_type": "execute_result"
    }
   ],
   "source": [
    "response"
   ]
  },
  {
   "cell_type": "code",
   "execution_count": 33,
   "id": "abc046ff-2454-42bb-9039-23d132f20d79",
   "metadata": {},
   "outputs": [
    {
     "data": {
      "text/plain": [
       "'{\"detail\":\"Not Found\"}'"
      ]
     },
     "execution_count": 33,
     "metadata": {},
     "output_type": "execute_result"
    }
   ],
   "source": [
    "response.text"
   ]
  },
  {
   "cell_type": "code",
   "execution_count": 22,
   "id": "e5ddd31d-b480-4b0e-9dfd-4fbb3bb06108",
   "metadata": {},
   "outputs": [
    {
     "name": "stdout",
     "output_type": "stream",
     "text": [
      "text/plain; charset=utf-8\n"
     ]
    }
   ],
   "source": [
    "print(response.headers.get('Content-Type'))"
   ]
  },
  {
   "cell_type": "code",
   "execution_count": 9,
   "id": "1dbc2928-f42f-48a8-bc90-82a95fb7fb3e",
   "metadata": {},
   "outputs": [],
   "source": [
    "headers = {\n",
    "    \"Authorization\": \"1b8119a4b581\",\n",
    "    \"Content-Type\": \"application/json\"\n",
    "}\n",
    "\n",
    "response = requests.post(url, json=payload, headers=headers)"
   ]
  },
  {
   "cell_type": "code",
   "execution_count": 11,
   "id": "d17736bd-3ad1-4af3-b9b1-e38e0dc95ac7",
   "metadata": {},
   "outputs": [
    {
     "data": {
      "text/plain": [
       "<Response [200]>"
      ]
     },
     "execution_count": 11,
     "metadata": {},
     "output_type": "execute_result"
    }
   ],
   "source": [
    "response"
   ]
  },
  {
   "cell_type": "code",
   "execution_count": 35,
   "id": "4e20f283-eea0-4d47-9aff-efef2eed58c5",
   "metadata": {},
   "outputs": [],
   "source": [
    "import requests\n",
    " \n",
    "url = \"https://stocks-research-assisstant-451e6ff2-c32c-4e-19951976.crewai.com\"\n",
    "response = requests.post(url, json={\"current_year\": 2025,\"topic\": \"AI in stock market\"})\n"
   ]
  },
  {
   "cell_type": "code",
   "execution_count": 36,
   "id": "3fd03c38-297e-4177-889b-e9d9c78fac30",
   "metadata": {},
   "outputs": [
    {
     "data": {
      "text/plain": [
       "<Response [200]>"
      ]
     },
     "execution_count": 36,
     "metadata": {},
     "output_type": "execute_result"
    }
   ],
   "source": [
    "response"
   ]
  },
  {
   "cell_type": "code",
   "execution_count": 1,
   "id": "3534c89e-60ba-4ebd-a153-4068b4c1e884",
   "metadata": {},
   "outputs": [
    {
     "name": "stdout",
     "output_type": "stream",
     "text": [
      "{'inputs': ['current_year', 'topic']}\n"
     ]
    }
   ],
   "source": [
    "import requests\n",
    "\n",
    "url = \"https://stocks-research-assisstant-451e6ff2-c32c-4e-19951976.crewai.com/inputs\"\n",
    "headers = {\n",
    "    \"Authorization\": \"Bearer 1b8119a4b581\"\n",
    "}\n",
    "\n",
    "response = requests.get(url, headers=headers)\n",
    "print(response.json()) "
   ]
  },
  {
   "cell_type": "code",
   "execution_count": 3,
   "id": "72b04d5b-6532-4f69-9d55-757e96faa7ea",
   "metadata": {},
   "outputs": [
    {
     "name": "stdout",
     "output_type": "stream",
     "text": [
      "{'kickoff_id': '6d5a6b37-b928-4f19-8ec3-fa631299a383'}\n"
     ]
    }
   ],
   "source": [
    "import requests\n",
    "\n",
    "url = \"https://stocks-research-assisstant-451e6ff2-c32c-4e-19951976.crewai.com/kickoff\"\n",
    "headers = {\n",
    "    \"Authorization\": \"Bearer 1b8119a4b581\",\n",
    "    \"Content-Type\": \"application/json\"\n",
    "}\n",
    "data = {\n",
    "    \"inputs\": {\n",
    "        \"current_year\": \"2025\",\n",
    "        \"topic\" : \"Apple Inc.\"\n",
    "    }\n",
    "}\n",
    "\n",
    "response = requests.post(url, headers=headers, json=data)\n",
    "print(response.json())\n"
   ]
  },
  {
   "cell_type": "code",
   "execution_count": null,
   "id": "5cb9a070-2cdf-4926-ad95-b27411a2aa3b",
   "metadata": {},
   "outputs": [],
   "source": [
    "import requests\n",
    "\n",
    "task_id = \"YOUR_TASK_ID\"\n",
    "url = f\"https://stocks-research-assisstant-451e6ff2-c32c-4e-19951976.crewai.com/status/{task_id}\"\n",
    "headers = {\n",
    "    \"Authorization\": \"Bearer YOUR_BEARER_TOKEN\"\n",
    "}\n",
    "\n",
    "response = requests.get(url, headers=headers)\n",
    "print(response.json())\n"
   ]
  }
 ],
 "metadata": {
  "kernelspec": {
   "display_name": "Python 3 (ipykernel)",
   "language": "python",
   "name": "python3"
  },
  "language_info": {
   "codemirror_mode": {
    "name": "ipython",
    "version": 3
   },
   "file_extension": ".py",
   "mimetype": "text/x-python",
   "name": "python",
   "nbconvert_exporter": "python",
   "pygments_lexer": "ipython3",
   "version": "3.12.4"
  }
 },
 "nbformat": 4,
 "nbformat_minor": 5
}
